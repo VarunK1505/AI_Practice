{
 "cells": [
  {
   "cell_type": "markdown",
   "metadata": {},
   "source": [
    "# Experiment 2 : Simple Agent \n",
    "## Varun Kamath 20BAI1066\n",
    "### 11/01/22"
   ]
  },
  {
   "cell_type": "markdown",
   "metadata": {},
   "source": [
    "We will be making a simple agent environment where the agent is our vacuum cleaner roobot and the environmnt includes the room where we want the robot to function. The room will containg dust, water, detectable objects and walls on which the robot will have to perform different tasks based on the situation"
   ]
  },
  {
   "cell_type": "code",
   "execution_count": 1,
   "metadata": {},
   "outputs": [],
   "source": [
    "import numpy as np\n",
    "import random"
   ]
  },
  {
   "cell_type": "code",
   "execution_count": 2,
   "metadata": {},
   "outputs": [],
   "source": [
    "# making of the environment\n",
    "\n",
    "class room_env:\n",
    "    def __init__(self):\n",
    "        self.things = random.randint(10,100)\n",
    "        self.dict={}\n",
    "        \n",
    "        for i in range(self.things):\n",
    "            self.dict[i] = random.choice([\"dust\",\"water\",\"object\",\"wall\"])\n",
    "        print(self.dict)\n",
    "        \n",
    "    def things_list(self):\n",
    "        return self.things\n",
    "    \n",
    "    def get_dict(self,i):\n",
    "        return self.dict[i]"
   ]
  },
  {
   "cell_type": "code",
   "execution_count": 3,
   "metadata": {},
   "outputs": [],
   "source": [
    "# making class for agent\n",
    "\n",
    "class vac_robo:\n",
    "    def __init__(self):\n",
    "        self.posi = 0\n",
    "        self.next = None\n",
    "    \n",
    "    def curr_posi(self):\n",
    "        print(\"I am currently at tile number : \", self.posi)\n",
    "        \n",
    "    def move(self,env):\n",
    "        if self.posi < env.things_list():\n",
    "            self.next = env.get_dict(self.posi+1)\n",
    "            if env.get_dict(self.posi)==\"dust\":\n",
    "                print(\"suck dust\", self.posi)\n",
    "                self.posi += 1\n",
    "            elif env.get_dict(self.posi)==\"water\":\n",
    "                print(\"skip patch\", self.posi)\n",
    "                self.posi += 2\n",
    "            elif env.get_dict(self.posi)==\"object\":\n",
    "                print(\"dodge object\", self.posi)\n",
    "                self.posi += 2\n",
    "            elif env.get_dict(self.posi)==\"wall\":\n",
    "                print(\"wall detected...rotate\", self.posi)\n",
    "                self.posi += 1\n",
    "            return True\n",
    "            \n",
    "        else:\n",
    "            self.curr_posi()\n",
    "            print(\"I have completed cleaning the whole room !!\")\n",
    "            return False"
   ]
  },
  {
   "cell_type": "code",
   "execution_count": 4,
   "metadata": {},
   "outputs": [
    {
     "name": "stdout",
     "output_type": "stream",
     "text": [
      "{0: 'dust', 1: 'water', 2: 'wall', 3: 'dust', 4: 'water', 5: 'wall', 6: 'wall', 7: 'wall', 8: 'object', 9: 'dust', 10: 'wall', 11: 'object', 12: 'water', 13: 'wall', 14: 'object', 15: 'water', 16: 'wall', 17: 'object'}\n",
      "Number of tiles in given room is :  18\n",
      "suck dust 0\n",
      "skip patch 1\n",
      "suck dust 3\n",
      "skip patch 4\n",
      "wall detected...rotate 6\n",
      "wall detected...rotate 7\n",
      "dodge object 8\n",
      "wall detected...rotate 10\n",
      "dodge object 11\n",
      "wall detected...rotate 13\n",
      "dodge object 14\n",
      "wall detected...rotate 16\n"
     ]
    },
    {
     "ename": "KeyError",
     "evalue": "18",
     "output_type": "error",
     "traceback": [
      "\u001b[1;31m---------------------------------------------------------------------------\u001b[0m",
      "\u001b[1;31mKeyError\u001b[0m                                  Traceback (most recent call last)",
      "\u001b[1;32m<ipython-input-4-3c55d0f4bade>\u001b[0m in \u001b[0;36m<module>\u001b[1;34m\u001b[0m\n\u001b[0;32m      6\u001b[0m \u001b[0mflag\u001b[0m \u001b[1;33m=\u001b[0m \u001b[1;32mTrue\u001b[0m\u001b[1;33m\u001b[0m\u001b[1;33m\u001b[0m\u001b[0m\n\u001b[0;32m      7\u001b[0m \u001b[1;32mwhile\u001b[0m\u001b[1;33m(\u001b[0m\u001b[0mflag\u001b[0m\u001b[1;33m)\u001b[0m\u001b[1;33m:\u001b[0m\u001b[1;33m\u001b[0m\u001b[1;33m\u001b[0m\u001b[0m\n\u001b[1;32m----> 8\u001b[1;33m     \u001b[0mflag\u001b[0m \u001b[1;33m=\u001b[0m \u001b[0mrobo\u001b[0m\u001b[1;33m.\u001b[0m\u001b[0mmove\u001b[0m\u001b[1;33m(\u001b[0m\u001b[0menv\u001b[0m\u001b[1;33m)\u001b[0m\u001b[1;33m\u001b[0m\u001b[1;33m\u001b[0m\u001b[0m\n\u001b[0m\u001b[0;32m      9\u001b[0m \u001b[1;33m\u001b[0m\u001b[0m\n",
      "\u001b[1;32m<ipython-input-3-a980e91fa7f6>\u001b[0m in \u001b[0;36mmove\u001b[1;34m(self, env)\u001b[0m\n\u001b[0;32m     11\u001b[0m     \u001b[1;32mdef\u001b[0m \u001b[0mmove\u001b[0m\u001b[1;33m(\u001b[0m\u001b[0mself\u001b[0m\u001b[1;33m,\u001b[0m\u001b[0menv\u001b[0m\u001b[1;33m)\u001b[0m\u001b[1;33m:\u001b[0m\u001b[1;33m\u001b[0m\u001b[1;33m\u001b[0m\u001b[0m\n\u001b[0;32m     12\u001b[0m         \u001b[1;32mif\u001b[0m \u001b[0mself\u001b[0m\u001b[1;33m.\u001b[0m\u001b[0mposi\u001b[0m \u001b[1;33m<\u001b[0m \u001b[0menv\u001b[0m\u001b[1;33m.\u001b[0m\u001b[0mthings_list\u001b[0m\u001b[1;33m(\u001b[0m\u001b[1;33m)\u001b[0m\u001b[1;33m:\u001b[0m\u001b[1;33m\u001b[0m\u001b[1;33m\u001b[0m\u001b[0m\n\u001b[1;32m---> 13\u001b[1;33m             \u001b[0mself\u001b[0m\u001b[1;33m.\u001b[0m\u001b[0mnext\u001b[0m \u001b[1;33m=\u001b[0m \u001b[0menv\u001b[0m\u001b[1;33m.\u001b[0m\u001b[0mget_dict\u001b[0m\u001b[1;33m(\u001b[0m\u001b[0mself\u001b[0m\u001b[1;33m.\u001b[0m\u001b[0mposi\u001b[0m\u001b[1;33m+\u001b[0m\u001b[1;36m1\u001b[0m\u001b[1;33m)\u001b[0m\u001b[1;33m\u001b[0m\u001b[1;33m\u001b[0m\u001b[0m\n\u001b[0m\u001b[0;32m     14\u001b[0m             \u001b[1;32mif\u001b[0m \u001b[0menv\u001b[0m\u001b[1;33m.\u001b[0m\u001b[0mget_dict\u001b[0m\u001b[1;33m(\u001b[0m\u001b[0mself\u001b[0m\u001b[1;33m.\u001b[0m\u001b[0mposi\u001b[0m\u001b[1;33m)\u001b[0m\u001b[1;33m==\u001b[0m\u001b[1;34m\"dust\"\u001b[0m\u001b[1;33m:\u001b[0m\u001b[1;33m\u001b[0m\u001b[1;33m\u001b[0m\u001b[0m\n\u001b[0;32m     15\u001b[0m                 \u001b[0mprint\u001b[0m\u001b[1;33m(\u001b[0m\u001b[1;34m\"suck dust\"\u001b[0m\u001b[1;33m,\u001b[0m \u001b[0mself\u001b[0m\u001b[1;33m.\u001b[0m\u001b[0mposi\u001b[0m\u001b[1;33m)\u001b[0m\u001b[1;33m\u001b[0m\u001b[1;33m\u001b[0m\u001b[0m\n",
      "\u001b[1;32m<ipython-input-2-156a538f45b0>\u001b[0m in \u001b[0;36mget_dict\u001b[1;34m(self, i)\u001b[0m\n\u001b[0;32m     14\u001b[0m \u001b[1;33m\u001b[0m\u001b[0m\n\u001b[0;32m     15\u001b[0m     \u001b[1;32mdef\u001b[0m \u001b[0mget_dict\u001b[0m\u001b[1;33m(\u001b[0m\u001b[0mself\u001b[0m\u001b[1;33m,\u001b[0m\u001b[0mi\u001b[0m\u001b[1;33m)\u001b[0m\u001b[1;33m:\u001b[0m\u001b[1;33m\u001b[0m\u001b[1;33m\u001b[0m\u001b[0m\n\u001b[1;32m---> 16\u001b[1;33m         \u001b[1;32mreturn\u001b[0m \u001b[0mself\u001b[0m\u001b[1;33m.\u001b[0m\u001b[0mdict\u001b[0m\u001b[1;33m[\u001b[0m\u001b[0mi\u001b[0m\u001b[1;33m]\u001b[0m\u001b[1;33m\u001b[0m\u001b[1;33m\u001b[0m\u001b[0m\n\u001b[0m",
      "\u001b[1;31mKeyError\u001b[0m: 18"
     ]
    }
   ],
   "source": [
    "robo = vac_robo()\n",
    "env = room_env()\n",
    "\n",
    "print(\"Number of tiles in given room is : \",env.things_list() )\n",
    "\n",
    "flag = True\n",
    "while(flag):\n",
    "    flag = robo.move(env)\n",
    "    "
   ]
  },
  {
   "cell_type": "code",
   "execution_count": null,
   "metadata": {},
   "outputs": [],
   "source": []
  },
  {
   "cell_type": "code",
   "execution_count": null,
   "metadata": {},
   "outputs": [],
   "source": []
  }
 ],
 "metadata": {
  "kernelspec": {
   "display_name": "Python 3",
   "language": "python",
   "name": "python3"
  },
  "language_info": {
   "codemirror_mode": {
    "name": "ipython",
    "version": 3
   },
   "file_extension": ".py",
   "mimetype": "text/x-python",
   "name": "python",
   "nbconvert_exporter": "python",
   "pygments_lexer": "ipython3",
   "version": "3.8.5"
  }
 },
 "nbformat": 4,
 "nbformat_minor": 4
}
