{
 "cells": [
  {
   "cell_type": "markdown",
   "metadata": {},
   "source": [
    "# Experiment 1 \n",
    "## Varun Kamath 20BAI1066\n",
    "#### 4/1/22"
   ]
  },
  {
   "cell_type": "markdown",
   "metadata": {},
   "source": [
    "In Discrete Maths and Graphs last semester we learnt to construct \"Hassey Diagrams\" which represented all the factors of a number and its factors at each step\n",
    "\n",
    "In this experiment I have made a depth first and breadth first search algorithm which gives us the route from the factor till the desired number\n",
    "\n",
    "In this case i have chosen the hassey diagram for all the factors of 60 which looks like the below picture\n"
   ]
  },
  {
   "attachments": {
    "image.png": {
     "image/png": "[encoded data removed]"
    }
   },
   "cell_type": "markdown",
   "metadata": {},
   "source": [
    "![image.png](attachment:image.png)"
   ]
  },
  {
   "cell_type": "code",
   "execution_count": 1,
   "metadata": {},
   "outputs": [],
   "source": [
    "import numpy as np"
   ]
  },
  {
   "cell_type": "code",
   "execution_count": 2,
   "metadata": {},
   "outputs": [],
   "source": [
    "# creating a graph first and storing it in a adjacency dictionary\n",
    "\n",
    "adjdict = {\n",
    "    \"1\":[\"2\",\"3\",\"5\"],\n",
    "    \"2\":[\"4\",\"6\",\"10\"],\n",
    "    \"3\":[\"6\",\"15\"],\n",
    "    \"5\":[\"15\",\"10\"],\n",
    "    \"4\":[\"20\",\"12\"],\n",
    "    \"6\":[\"12\",\"30\"],\n",
    "    \"10\":[\"30\",\"20\"],\n",
    "    \"15\":[\"30\"],\n",
    "    \"12\":[\"60\"],\n",
    "    \"20\":[\"60\"],\n",
    "    \"30\":[\"60\"],\n",
    "    \"60\":[],\n",
    "}"
   ]
  },
  {
   "cell_type": "markdown",
   "metadata": {},
   "source": [
    "## Depth First Search"
   ]
  },
  {
   "cell_type": "code",
   "execution_count": 3,
   "metadata": {},
   "outputs": [
    {
     "name": "stdout",
     "output_type": "stream",
     "text": [
      "{'1': -1, '2': -1, '3': -1, '5': -1, '4': -1, '6': -1, '10': -1, '15': -1, '12': -1, '20': -1, '30': -1, '60': -1}\n",
      "{'1': None, '2': None, '3': None, '5': None, '4': None, '6': None, '10': None, '15': None, '12': None, '20': None, '30': None, '60': None}\n"
     ]
    }
   ],
   "source": [
    "status={}                     # creating status list telling whether node is visited\n",
    "pnode={}                      # parent node telling us the parent of particular node\n",
    "traverse_output=[]            # stores path taken by depth first search\n",
    "\n",
    "for i in adjdict.keys():\n",
    "    status[i]= -1\n",
    "    pnode[i] = None\n",
    "\n",
    "print(status)\n",
    "print(pnode)\n",
    "\n",
    "\n",
    "#printing all the initialized lists"
   ]
  },
  {
   "cell_type": "code",
   "execution_count": 4,
   "metadata": {},
   "outputs": [],
   "source": [
    "def DFS(n,o):\n",
    "    status[n]=0\n",
    "    traverse_output.append(n)\n",
    "    \n",
    "    for v in adjdict[n]:\n",
    "        if (status[v] == -1 and traverse_output[len(traverse_output)-1]!=o):\n",
    "            pnode[v] = n\n",
    "            DFS(v,o)\n",
    "    status[n] = 1"
   ]
  },
  {
   "cell_type": "code",
   "execution_count": 5,
   "metadata": {},
   "outputs": [
    {
     "name": "stdout",
     "output_type": "stream",
     "text": [
      "['3', '6', '12', '60']\n",
      "{'1': None, '2': None, '3': None, '5': None, '4': None, '6': '3', '10': None, '15': None, '12': '6', '20': None, '30': None, '60': '12'}\n"
     ]
    }
   ],
   "source": [
    "DFS(\"3\",\"60\")\n",
    "print(traverse_output)\n",
    "print(pnode)"
   ]
  },
  {
   "cell_type": "markdown",
   "metadata": {},
   "source": [
    "## Breadth First Search"
   ]
  },
  {
   "cell_type": "code",
   "execution_count": 6,
   "metadata": {},
   "outputs": [],
   "source": [
    "from queue import Queue\n",
    "visited={}\n",
    "pnodebfs={}\n",
    "bfs_output=[\"tmp\"]\n",
    "q = Queue()\n",
    "\n",
    "for i in adjdict.keys():\n",
    "    visited[i] = False\n",
    "    pnodebfs[i] = None\n",
    "    \n",
    "def BFS(n,o):\n",
    "    if q.empty():\n",
    "        visited[n]=True\n",
    "        q.put(n)\n",
    "    \n",
    "    while (not q.empty() and bfs_output[len(bfs_output)-1]!=o):\n",
    "        x=q.get()\n",
    "        bfs_output.append(x)\n",
    "        \n",
    "        for i in adjdict[x]:\n",
    "            if not visited[i]:\n",
    "                visited[i]=True\n",
    "                pnodebfs[i]=x\n",
    "                q.put(i)\n",
    "\n",
    "                "
   ]
  },
  {
   "cell_type": "code",
   "execution_count": 7,
   "metadata": {},
   "outputs": [
    {
     "name": "stdout",
     "output_type": "stream",
     "text": [
      "['3', '6', '15', '12', '30', '60']\n",
      "{'1': None, '2': None, '3': None, '5': None, '4': None, '6': '3', '10': None, '15': '3', '12': '6', '20': None, '30': '6', '60': '12'}\n"
     ]
    }
   ],
   "source": [
    "BFS(\"3\",\"60\")\n",
    "print(bfs_output[1:])          #printing output without initial temp value in array\n",
    "print(pnodebfs)"
   ]
  },
  {
   "cell_type": "code",
   "execution_count": null,
   "metadata": {},
   "outputs": [],
   "source": []
  }
 ],
 "metadata": {
  "kernelspec": {
   "display_name": "Python 3",
   "language": "python",
   "name": "python3"
  },
  "language_info": {
   "codemirror_mode": {
    "name": "ipython",
    "version": 3
   },
   "file_extension": ".py",
   "mimetype": "text/x-python",
   "name": "python",
   "nbconvert_exporter": "python",
   "pygments_lexer": "ipython3",
   "version": "3.8.5"
  }
 },
 "nbformat": 4,
 "nbformat_minor": 4
}
